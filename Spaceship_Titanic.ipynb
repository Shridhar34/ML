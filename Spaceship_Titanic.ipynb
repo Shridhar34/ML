{
  "cells": [
    {
      "cell_type": "code",
      "execution_count": null,
      "metadata": {
        "id": "iecuSPK2YtdP"
      },
      "outputs": [],
      "source": [
        "import numpy as np\n",
        "import pandas as pd"
      ]
    },
    {
      "cell_type": "code",
      "execution_count": null,
      "metadata": {
        "id": "DBmHIX2OYxil"
      },
      "outputs": [],
      "source": [
        "train = pd.read_csv(\"train.csv\")"
      ]
    },
    {
      "cell_type": "code",
      "execution_count": null,
      "metadata": {
        "id": "E06_U2gfbIrt"
      },
      "outputs": [],
      "source": [
        "pip install pandas_profiling"
      ]
    },
    {
      "cell_type": "code",
      "execution_count": null,
      "metadata": {
        "id": "vl_ktbQ-bDVm"
      },
      "outputs": [],
      "source": [
        "'''import pandas as pd\n",
        "from pandas_profiling import ProfileReport\n",
        "\n",
        "# Load your dataset into a pandas DataFrame\n",
        "# df = pd.read_csv('your_dataset.csv')\n",
        "\n",
        "# Generate a profile report\n",
        "profile = ProfileReport(train, title='Pandas Profiling Report', explorative=True)\n",
        "\n",
        "# Save the report to an HTML file\n",
        "profile.to_file('report.html')'''\n"
      ]
    },
    {
      "cell_type": "code",
      "execution_count": null,
      "metadata": {
        "id": "7rRpzpgeY4MN"
      },
      "outputs": [],
      "source": [
        "train.head()"
      ]
    },
    {
      "cell_type": "code",
      "execution_count": null,
      "metadata": {
        "id": "lUGjN-byY51W"
      },
      "outputs": [],
      "source": [
        "train.info()"
      ]
    },
    {
      "cell_type": "code",
      "execution_count": null,
      "metadata": {
        "id": "6inJtbHmY6zw"
      },
      "outputs": [],
      "source": [
        "train.isnull().sum()"
      ]
    },
    {
      "cell_type": "code",
      "execution_count": null,
      "metadata": {
        "id": "6x3qv9c2dchm"
      },
      "outputs": [],
      "source": [
        "train = train.dropna()"
      ]
    },
    {
      "cell_type": "code",
      "execution_count": null,
      "metadata": {
        "id": "VzLCffV0Y8pQ"
      },
      "outputs": [],
      "source": [
        "train[['Cabin' , \"CabinA\" , \"CabinB\"]] = train['Cabin'].str.split('/',expand=True)"
      ]
    },
    {
      "cell_type": "code",
      "execution_count": null,
      "metadata": {
        "id": "RR-nTECmZpq8"
      },
      "outputs": [],
      "source": [
        "train.head()"
      ]
    },
    {
      "cell_type": "code",
      "execution_count": null,
      "metadata": {
        "id": "8Sn_3J1jZiRR"
      },
      "outputs": [],
      "source": [
        "Y = train['Transported']\n",
        "X = train.drop([\"Transported\"] , axis = 1)"
      ]
    },
    {
      "cell_type": "code",
      "execution_count": null,
      "metadata": {
        "id": "QARGRp8RZ0hU"
      },
      "outputs": [],
      "source": [
        "X = X.drop(['PassengerId'] , axis = 1)"
      ]
    },
    {
      "cell_type": "code",
      "execution_count": null,
      "metadata": {
        "id": "H6j2emdeZ-73"
      },
      "outputs": [],
      "source": [
        "X = X.drop([\"Name\"] , axis = 1)"
      ]
    },
    {
      "cell_type": "code",
      "execution_count": null,
      "metadata": {
        "id": "Qk4iLzdSacCu"
      },
      "outputs": [],
      "source": [
        "X['CryoSleep'] = X['CryoSleep'].replace({True:1 , False:0})"
      ]
    },
    {
      "cell_type": "code",
      "execution_count": null,
      "metadata": {
        "id": "X_9sO2tJa0XQ"
      },
      "outputs": [],
      "source": [
        "X.head()"
      ]
    },
    {
      "cell_type": "code",
      "execution_count": null,
      "metadata": {
        "id": "X-7753hea2Li"
      },
      "outputs": [],
      "source": [
        "df_encoded = pd.get_dummies(data = X , columns = [\"HomePlanet\"])\n",
        "X.drop(columns=['HomePlanet'], inplace=True)\n",
        "X = pd.concat([X, df_encoded], axis=1)"
      ]
    },
    {
      "cell_type": "code",
      "execution_count": null,
      "metadata": {
        "id": "vMfwlYvub5qk"
      },
      "outputs": [],
      "source": [
        "X.head()"
      ]
    },
    {
      "cell_type": "code",
      "execution_count": null,
      "metadata": {
        "id": "VZcFdwbId6LG"
      },
      "outputs": [],
      "source": [
        "df_encoded = pd.get_dummies(data = X , columns = [\"Cabin\"])\n",
        "X.drop(columns=['Cabin'], inplace=True)\n",
        "X = pd.concat([X, df_encoded], axis=1)\n",
        "\n",
        "df_encoded = pd.get_dummies(data = X , columns = [\"CabinA\"])\n",
        "X.drop(columns=['CabinA'], inplace=True)\n",
        "X = pd.concat([X, df_encoded], axis=1)\n",
        "\n",
        "df_encoded = pd.get_dummies(data = X , columns = [\"CabinB\"])\n",
        "X.drop(columns=['CabinB'], inplace=True)\n",
        "X = pd.concat([X, df_encoded], axis=1)"
      ]
    },
    {
      "cell_type": "code",
      "execution_count": null,
      "metadata": {
        "id": "Gz13E3YzeXd0"
      },
      "outputs": [],
      "source": [
        "df_encoded = pd.get_dummies(data = X , columns = [\"Destination\"])\n",
        "X.drop(columns=['Destination'], inplace=True)\n",
        "X = pd.concat([X, df_encoded], axis=1)"
      ]
    },
    {
      "cell_type": "code",
      "execution_count": null,
      "metadata": {
        "id": "Yj3RIXqCefRP"
      },
      "outputs": [],
      "source": [
        "X['VIP'] = X['VIP'].replace({True:1 , False:0})"
      ]
    },
    {
      "cell_type": "code",
      "execution_count": null,
      "metadata": {
        "id": "WBv_DokfelTG"
      },
      "outputs": [],
      "source": [
        "Y = Y.replace({True:1 , False:0})"
      ]
    },
    {
      "cell_type": "code",
      "execution_count": null,
      "metadata": {
        "id": "9SWWIjALercx"
      },
      "outputs": [],
      "source": [
        "from sklearn.model_selection import train_test_split\n",
        "from sklearn.ensemble import RandomForestClassifier\n",
        "from sklearn.metrics import accuracy_score"
      ]
    },
    {
      "cell_type": "code",
      "execution_count": null,
      "metadata": {
        "id": "eX9VTIgfe1Vs"
      },
      "outputs": [],
      "source": [
        "rf_classifier1 = RandomForestClassifier(n_estimators=100, random_state=42)\n",
        "rf_classifier1.fit(X, Y)"
      ]
    },
    {
      "cell_type": "code",
      "execution_count": null,
      "metadata": {
        "colab": {
          "base_uri": "https://localhost:8080/"
        },
        "id": "FVQ5nShifC3k",
        "outputId": "30bd62d7-a2d8-4ec7-c3c9-570f155e2185"
      },
      "outputs": [
        {
          "output_type": "stream",
          "name": "stdout",
          "text": [
            "Best Hyperparameters: {'n_estimators': 100, 'min_samples_split': 10, 'min_samples_leaf': 2, 'max_depth': None, 'bootstrap': True}\n"
          ]
        }
      ],
      "source": [
        "import pandas as pd\n",
        "from sklearn.model_selection import train_test_split, RandomizedSearchCV\n",
        "from sklearn.ensemble import RandomForestClassifier\n",
        "param_grid = {\n",
        "    'n_estimators': [100, 200, 300],\n",
        "    'max_depth': [None, 10, 20, 30],\n",
        "    'min_samples_split': [2, 5, 10],\n",
        "    'min_samples_leaf': [1, 2, 4],\n",
        "    'bootstrap': [True, False]\n",
        "}\n",
        "rf_classifier = RandomForestClassifier(random_state=42)\n",
        "random_search = RandomizedSearchCV(estimator=rf_classifier, param_distributions=param_grid,\n",
        "                                   n_iter=10, scoring='accuracy', cv=5, random_state=42, n_jobs=-1)\n",
        "random_search.fit(X, Y)\n",
        "best_params = random_search.best_params_\n",
        "print(\"Best Hyperparameters:\", best_params)\n",
        "best_rf_model = random_search.best_estimator_"
      ]
    },
    {
      "cell_type": "code",
      "execution_count": null,
      "metadata": {
        "id": "HlmaMr6ZgUKT"
      },
      "outputs": [],
      "source": [
        "test1 = pd.read_csv(\"test.csv\")"
      ]
    },
    {
      "cell_type": "code",
      "execution_count": null,
      "metadata": {
        "id": "7tNvrUtdjCi-"
      },
      "outputs": [],
      "source": [
        "test1.isnull().sum()"
      ]
    },
    {
      "cell_type": "code",
      "execution_count": null,
      "metadata": {
        "id": "lyJZgMkijast"
      },
      "outputs": [],
      "source": [
        "df = ['HomePlanet' , \"CryoSleep\" , \"Cabin\" , \"Destination\" , \"VIP\"]\n",
        "for column in df:\n",
        "    mode_value = test1[column].mode()[0]\n",
        "    test1[column].fillna(mode_value, inplace=True)"
      ]
    },
    {
      "cell_type": "code",
      "execution_count": null,
      "metadata": {
        "id": "VTWZEQ8dj1Xa"
      },
      "outputs": [],
      "source": [
        "df = [\"Age\" , \"RoomService\" , \"FoodCourt\" , \"ShoppingMall\" , \"Spa\" , \"VRDeck\"]\n",
        "for column in df:\n",
        "    mean_value = test1[column].mean()\n",
        "    test1[column].fillna(mean_value, inplace=True)"
      ]
    },
    {
      "cell_type": "code",
      "execution_count": null,
      "metadata": {
        "id": "Y95hdd4bkMQJ"
      },
      "outputs": [],
      "source": [
        "test1.isnull().sum()"
      ]
    },
    {
      "cell_type": "code",
      "execution_count": null,
      "metadata": {
        "id": "b4UzqXpTiZYQ"
      },
      "outputs": [],
      "source": [
        "test1 = test1.drop([\"Name\"] , axis = 1)\n",
        "test1['CryoSleep'] = test1['CryoSleep'].replace({True:1 , False:0})\n",
        "test1[['Cabin' , \"CabinA\" , \"CabinB\"]] = test1['Cabin'].str.split('/',expand=True)\n",
        "df_encoded = pd.get_dummies(data = test1 , columns = [\"HomePlanet\"])\n",
        "test1.drop(columns=['HomePlanet'], inplace=True)\n",
        "test1 = pd.concat([test1, df_encoded], axis=1)\n",
        "\n",
        "df_encoded = pd.get_dummies(data = test1 , columns = [\"Cabin\"])\n",
        "test1.drop(columns=['Cabin'], inplace=True)\n",
        "test1 = pd.concat([test1, df_encoded], axis=1)\n",
        "\n",
        "df_encoded = pd.get_dummies(data = test1 , columns = [\"CabinA\"])\n",
        "test1.drop(columns=['CabinA'], inplace=True)\n",
        "test1 = pd.concat([test1, df_encoded], axis=1)\n",
        "\n",
        "df_encoded = pd.get_dummies(data = test1 , columns = [\"CabinB\"])\n",
        "test1.drop(columns=['CabinB'], inplace=True)\n",
        "test1 = pd.concat([test1, df_encoded], axis=1)\n",
        "\n",
        "test1['VIP'] = test1['VIP'].replace({True:1 , False:0})\n",
        "\n",
        "df_encoded = pd.get_dummies(data = test1, columns = [\"Destination\"])\n",
        "test1.drop(columns=['Destination'], inplace=True)\n",
        "test1 = pd.concat([test1, df_encoded], axis=1)"
      ]
    },
    {
      "cell_type": "code",
      "execution_count": null,
      "metadata": {
        "id": "NhBCtD4eioR5"
      },
      "outputs": [],
      "source": [
        "from sklearn.ensemble import RandomForestClassifier\n",
        "best_rf_model = RandomForestClassifier(n_estimators = 100, min_samples_split = 10, min_samples_leaf =  2, max_depth =  None, bootstrap =  True)\n",
        "best_rf_model.fit(X , Y)\n",
        "Yx = best_rf_model.predict(test1)\n",
        "y_pred_df = pd.DataFrame({'Predicted_Label': Yx})\n",
        "Yx.to_csv('predicted_values.csv', index=False)"
      ]
    },
    {
      "cell_type": "code",
      "source": [],
      "metadata": {
        "id": "V9uMYMFD6jRr"
      },
      "execution_count": null,
      "outputs": []
    }
  ],
  "metadata": {
    "colab": {
      "provenance": []
    },
    "kernelspec": {
      "display_name": "Python 3",
      "name": "python3"
    },
    "language_info": {
      "name": "python"
    }
  },
  "nbformat": 4,
  "nbformat_minor": 0
}